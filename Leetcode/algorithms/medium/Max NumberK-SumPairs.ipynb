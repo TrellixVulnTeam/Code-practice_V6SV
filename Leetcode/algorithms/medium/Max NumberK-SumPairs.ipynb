{
 "cells": [
  {
   "cell_type": "code",
   "execution_count": 97,
   "id": "suffering-petroleum",
   "metadata": {},
   "outputs": [],
   "source": [
    "nums = [63,10,28,31,90,53,75,77,72,47,45,6,49,13,77,61,68,43,33,1,14,62,55,55,38,54,8,79,89,14,50,68,85,12,42,57,4,67,75,6,71,8,61,26,11,20,22,3,70,52,82,70,67,18,66,79,84,51,78,23,19,84,46,61,63,73,80,61,15,12,58,3,21,66,42,55,7,58,85,60,23,69,41,61,35,64,58,84,61,77,45,14,1,38,4,8,42,16,79,60,80,39,67,10,24,15,6,37,68,76,30,53,63,87,11,71,86,82,77,76,37,21,85,7,75,83,80,8,19,25,11,10,41,66,70,14,23,74,33,76,35,89,68,85,83,57,6,72,34,21,57,72,79,29,65,3,67,8,24,24,18,26,27,68,78,64,57,55,68,28,9,11,38,45,61,37,81,89,38,43,45,26,84,62,22,37,51,15,30,67,75,24,66,40,81,74,48,43,78,14,33,19,73,5,1,2,53,29,49,73,23,5]\n",
    "k = 59"
   ]
  },
  {
   "cell_type": "code",
   "execution_count": 98,
   "id": "acquired-jones",
   "metadata": {},
   "outputs": [],
   "source": [
    "answer = 0"
   ]
  },
  {
   "cell_type": "markdown",
   "id": "searching-thing",
   "metadata": {},
   "source": [
    "## Two Pointers"
   ]
  },
  {
   "cell_type": "code",
   "execution_count": 99,
   "id": "disturbed-income",
   "metadata": {},
   "outputs": [],
   "source": [
    "class Solution:\n",
    "    def maxOperations(self, nums, k: int) -> int:\n",
    "        nums.sort()\n",
    "        answer = 0\n",
    "        s, e = 0, len(nums) - 1\n",
    "        \n",
    "        while s < e:\n",
    "            Sum = nums[s] + nums[e]\n",
    "            \n",
    "            if Sum == k:\n",
    "                s += 1\n",
    "                e -= 1\n",
    "                answer += 1\n",
    "            \n",
    "            elif Sum < k:\n",
    "                s += 1\n",
    "            else:\n",
    "                e -= 1\n",
    "        \n",
    "        return answer"
   ]
  },
  {
   "cell_type": "code",
   "execution_count": 100,
   "id": "sealed-surfing",
   "metadata": {},
   "outputs": [
    {
     "data": {
      "text/plain": [
       "42"
      ]
     },
     "execution_count": 100,
     "metadata": {},
     "output_type": "execute_result"
    }
   ],
   "source": [
    "Solution().maxOperations(nums, k)"
   ]
  },
  {
   "cell_type": "markdown",
   "id": "sexual-kuwait",
   "metadata": {},
   "source": [
    "### Second method"
   ]
  },
  {
   "cell_type": "code",
   "execution_count": 102,
   "id": "liable-bookmark",
   "metadata": {},
   "outputs": [],
   "source": [
    "import collections"
   ]
  },
  {
   "cell_type": "code",
   "execution_count": null,
   "id": "regional-teddy",
   "metadata": {},
   "outputs": [],
   "source": [
    "class Solution:\n",
    "    def maxOperations(self, nums: List[int], k: int) -> int:\n",
    "        freq, ans = collections.defaultdict(int), 0\n",
    "        for n in nums:\n",
    "            if freq[k - n]:\n",
    "                freq[k - n] -= 1\n",
    "                ans += 1\n",
    "            else:\n",
    "                freq[n] += 1\n",
    "        return ans"
   ]
  },
  {
   "cell_type": "code",
   "execution_count": 118,
   "id": "excessive-explorer",
   "metadata": {},
   "outputs": [],
   "source": [
    "nums = [63,10,28,31,90,53,75,77,72,47,45,6,49,13,77,61,68,43,33,1,14,62,55,55,38,54,8,79,89,14,50,68,85,12,42,57,4,67,75,6,71,8,61,26,11,20,22,3]\n",
    "k = 59"
   ]
  },
  {
   "cell_type": "code",
   "execution_count": 122,
   "id": "realistic-finding",
   "metadata": {},
   "outputs": [],
   "source": [
    "from collections import Counter"
   ]
  },
  {
   "cell_type": "code",
   "execution_count": 136,
   "id": "interesting-parks",
   "metadata": {},
   "outputs": [],
   "source": [
    "class Solution:\n",
    "    def maxOperations(self, nums, k: int) -> int:\n",
    "        # Dict with unique elements\n",
    "        c = Counter(nums)\n",
    "        ans = 0\n",
    "        # Iterate through unique keys\n",
    "        for n in c.keys():\n",
    "            # If both element have pair, add 1 to res\n",
    "            ans += min(c[k-n], c[n])\n",
    "        \n",
    "        # We delete by 2 due to pair has two elements\n",
    "        return res//2"
   ]
  },
  {
   "cell_type": "code",
   "execution_count": null,
   "id": "acquired-proposal",
   "metadata": {},
   "outputs": [],
   "source": [
    "Solution().maxOperations(nums, k)"
   ]
  },
  {
   "cell_type": "code",
   "execution_count": null,
   "id": "revolutionary-wrong",
   "metadata": {},
   "outputs": [],
   "source": [
    "class Solution:\n",
    "    def maxOperations(self, nums: List[int], k: int) -> int:\n",
    "        counts = collections.Counter(nums)\n",
    "        used = set()\n",
    "        result = 0\n",
    "        for num, count in counts.items():\n",
    "            if num in used:\n",
    "                continue\n",
    "            opposite = k - num\n",
    "            if opposite == num:\n",
    "                result += count // 2\n",
    "            else:\n",
    "                result += min(count, counts.get(opposite, 0))\n",
    "                used.add(opposite)\n",
    "        return result"
   ]
  }
 ],
 "metadata": {
  "kernelspec": {
   "display_name": "Python 3",
   "language": "python",
   "name": "python3"
  },
  "language_info": {
   "codemirror_mode": {
    "name": "ipython",
    "version": 3
   },
   "file_extension": ".py",
   "mimetype": "text/x-python",
   "name": "python",
   "nbconvert_exporter": "python",
   "pygments_lexer": "ipython3",
   "version": "3.8.5"
  }
 },
 "nbformat": 4,
 "nbformat_minor": 5
}
