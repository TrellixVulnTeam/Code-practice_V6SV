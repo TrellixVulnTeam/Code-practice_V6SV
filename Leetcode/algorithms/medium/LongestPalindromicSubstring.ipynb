{
 "cells": [
  {
   "cell_type": "code",
   "execution_count": 5,
   "id": "ready-bulletin",
   "metadata": {},
   "outputs": [],
   "source": [
    "class Solution:\n",
    "    def longestPalindrome(self, s: str) -> str:\n",
    "        length = len(s) - 1\n",
    "        \n",
    "        if length < 1:\n",
    "            return s\n",
    "        \n",
    "        index = [0, 1]\n",
    "        \n",
    "        for i in range(length):\n",
    "            l = index[1] - index[0] + 1\n",
    "            \n",
    "            for j in range(i+l, length+2):\n",
    "                s2 = s[i:j]\n",
    "                if s2 == s2[::-1] and j-i >= l:\n",
    "                    index = [i, j]\n",
    "\n",
    "        return s[index[0]:index[1]]"
   ]
  },
  {
   "cell_type": "code",
   "execution_count": 4,
   "id": "asian-perth",
   "metadata": {},
   "outputs": [
    {
     "data": {
      "text/plain": [
       "'fffddd'"
      ]
     },
     "execution_count": 4,
     "metadata": {},
     "output_type": "execute_result"
    }
   ],
   "source": [
    "sub[::-1]"
   ]
  },
  {
   "cell_type": "code",
   "execution_count": null,
   "id": "hidden-vinyl",
   "metadata": {},
   "outputs": [],
   "source": []
  }
 ],
 "metadata": {
  "kernelspec": {
   "display_name": "Python 3",
   "language": "python",
   "name": "python3"
  },
  "language_info": {
   "codemirror_mode": {
    "name": "ipython",
    "version": 3
   },
   "file_extension": ".py",
   "mimetype": "text/x-python",
   "name": "python",
   "nbconvert_exporter": "python",
   "pygments_lexer": "ipython3",
   "version": "3.8.5"
  }
 },
 "nbformat": 4,
 "nbformat_minor": 5
}
