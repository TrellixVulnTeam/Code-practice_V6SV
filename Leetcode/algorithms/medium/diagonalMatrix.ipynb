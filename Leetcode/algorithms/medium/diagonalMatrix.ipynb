{
 "cells": [
  {
   "cell_type": "code",
   "execution_count": 3,
   "metadata": {},
   "outputs": [],
   "source": [
    "matrix = [\n",
    " [ 1, 2, 3 ],\n",
    " [ 4, 5, 6 ],\n",
    "    \n",
    " [ 7, 8, 9 ]\n",
    "]"
   ]
  },
  {
   "cell_type": "code",
   "execution_count": 4,
   "metadata": {},
   "outputs": [],
   "source": [
    "class Solution:\n",
    "    def findDiagonalOrder(self, mat: list) -> list:\n",
    "        # List is empty return empty list\n",
    "        if not mat:\n",
    "            return []\n",
    "        \n",
    "        m, n = len(mat), len(mat[0])\n",
    "        r, c = 0, 0\n",
    "        order = []\n",
    "        \n",
    "        for _ in range(m*n):\n",
    "            order.append(mat[r][c])\n",
    "            # Order going up\n",
    "            if (r+c) % 2 == 0:\n",
    "                if c == n-1:\n",
    "                    r += 1\n",
    "                elif r == 0:\n",
    "                    c += 1\n",
    "                else:\n",
    "                    r -= 1\n",
    "                    c += 1\n",
    "\n",
    "\n",
    "            # Order going down\n",
    "            else:\n",
    "                if r == m-1:\n",
    "                    c += 1\n",
    "                elif c == 0:\n",
    "                    r += 1\n",
    "\n",
    "                else:\n",
    "                    r += 1\n",
    "                    c -= 1\n",
    "        return order"
   ]
  },
  {
   "cell_type": "code",
   "execution_count": null,
   "metadata": {},
   "outputs": [],
   "source": []
  }
 ],
 "metadata": {
  "kernelspec": {
   "display_name": "Python 3",
   "language": "python",
   "name": "python3"
  },
  "language_info": {
   "codemirror_mode": {
    "name": "ipython",
    "version": 3
   },
   "file_extension": ".py",
   "mimetype": "text/x-python",
   "name": "python",
   "nbconvert_exporter": "python",
   "pygments_lexer": "ipython3",
   "version": "3.8.5"
  }
 },
 "nbformat": 4,
 "nbformat_minor": 4
}
