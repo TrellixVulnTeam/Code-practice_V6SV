{
 "cells": [
  {
   "cell_type": "markdown",
   "metadata": {},
   "source": [
    "According to Wikipedia's article: \"The Game of Life, also known simply as Life, is a cellular automaton devised by the British mathematician John Horton Conway in 1970.\"\n",
    "\n",
    "The board is made up of an m x n grid of cells, where each cell has an initial state: live (represented by a 1) or dead (represented by a 0). Each cell interacts with its eight neighbors (horizontal, vertical, diagonal) using the following four rules (taken from the above Wikipedia article):\n",
    "\n",
    "Any live cell with fewer than two live neighbors dies as if caused by under-population.\n",
    "Any live cell with two or three live neighbors lives on to the next generation.\n",
    "Any live cell with more than three live neighbors dies, as if by over-population.\n",
    "Any dead cell with exactly three live neighbors becomes a live cell, as if by reproduction.\n",
    "The next state is created by applying the above rules simultaneously to every cell in the current state, where births and deaths occur simultaneously. Given the current state of the m x n grid board, return the next state."
   ]
  },
  {
   "cell_type": "code",
   "execution_count": 352,
   "metadata": {},
   "outputs": [],
   "source": [
    "board = [[0,1,0],\n",
    "        [0,0,1],\n",
    "        [1,1,1],\n",
    "        [0,0,0]]"
   ]
  },
  {
   "cell_type": "code",
   "execution_count": 357,
   "metadata": {},
   "outputs": [],
   "source": [
    "class Solution:\n",
    "    def gameOfLife(self, board) -> None:\n",
    "        \"\"\"\n",
    "        Do not return anything, modify board in-place instead.\n",
    "        \"\"\"\n",
    "        row_min = 0\n",
    "        row_max = len(board) - 1\n",
    "        col_mim = 0\n",
    "        col_max = len(board[0]) - 1\n",
    "        mat_2 = [[0] * (col_max+1) for _ in range(row_max+1)]\n",
    "\n",
    "        \n",
    "        # Creating first matrix with sums values\n",
    "        \n",
    "        for row in range(len(board)):\n",
    "            for col in range(len(board[0])):\n",
    "                mat_2[row][col] = self.neighbors(board, row, col)\n",
    "                \n",
    "        for row in range(len(board)):\n",
    "            for col in range(len(board[0])):\n",
    "                if mat_2[row][col] == 3 and board[row][col] == 0:\n",
    "                    board[row][col] = 1\n",
    "                elif (mat_2[row][col] == 2 or mat_2[row][col] == 3) and board[row][col] !=0:\n",
    "                    board[row][col] = 1\n",
    "                else:\n",
    "                    board[row][col] = 0        \n",
    "        print(board)\n",
    "    \n",
    "    def neighbors(self, matrix, r, c):\n",
    "        def get(r, c):\n",
    "            if 0 <= r < len(matrix) and 0 <= c < len(matrix[r]):\n",
    "                return matrix[r][c]\n",
    "            else:\n",
    "                return 0\n",
    "\n",
    "        neighbors_list = [get(r-1, c-1), get(r-1, c), get(r-1, c+1),\n",
    "                          get(r  , c-1),              get(r  , c+1),\n",
    "                          get(r+1, c-1), get(r+1, c), get(r+1, c+1)]\n",
    "\n",
    "        return sum(map(bool, neighbors_list))"
   ]
  },
  {
   "cell_type": "code",
   "execution_count": 358,
   "metadata": {},
   "outputs": [
    {
     "name": "stdout",
     "output_type": "stream",
     "text": [
      "[[0, 0, 0], [1, 0, 1], [0, 1, 1], [0, 1, 0]]\n"
     ]
    }
   ],
   "source": [
    "Solution().gameOfLife(board)"
   ]
  },
  {
   "cell_type": "code",
   "execution_count": 359,
   "metadata": {},
   "outputs": [
    {
     "data": {
      "text/plain": [
       "[[0, 0, 0], [1, 0, 1], [0, 1, 1], [0, 1, 0]]"
      ]
     },
     "execution_count": 359,
     "metadata": {},
     "output_type": "execute_result"
    }
   ],
   "source": [
    "board"
   ]
  },
  {
   "cell_type": "code",
   "execution_count": null,
   "metadata": {},
   "outputs": [],
   "source": []
  }
 ],
 "metadata": {
  "kernelspec": {
   "display_name": "scoring",
   "language": "python",
   "name": "scoring"
  },
  "language_info": {
   "codemirror_mode": {
    "name": "ipython",
    "version": 3
   },
   "file_extension": ".py",
   "mimetype": "text/x-python",
   "name": "python",
   "nbconvert_exporter": "python",
   "pygments_lexer": "ipython3",
   "version": "3.8.0"
  }
 },
 "nbformat": 4,
 "nbformat_minor": 4
}
