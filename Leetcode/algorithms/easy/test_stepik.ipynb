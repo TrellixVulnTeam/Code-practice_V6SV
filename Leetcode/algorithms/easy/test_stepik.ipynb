{
 "cells": [
  {
   "cell_type": "code",
   "execution_count": 47,
   "metadata": {},
   "outputs": [],
   "source": [
    "A = B = C = {1}\n",
    "D = {2}"
   ]
  },
  {
   "cell_type": "code",
   "execution_count": 34,
   "metadata": {},
   "outputs": [],
   "source": [
    "C = {1}\n",
    "A = B = D = {1, 2}"
   ]
  },
  {
   "cell_type": "code",
   "execution_count": 35,
   "metadata": {},
   "outputs": [],
   "source": [
    "A1 = {1}\n",
    "B1 = {1, 2}\n",
    "C1 = {3}\n",
    "D1 = {2, 3}"
   ]
  },
  {
   "cell_type": "code",
   "execution_count": 48,
   "metadata": {},
   "outputs": [
    {
     "data": {
      "text/plain": [
       "False"
      ]
     },
     "execution_count": 48,
     "metadata": {},
     "output_type": "execute_result"
    }
   ],
   "source": [
    "# 2\n",
    "print(len(A - C) == len(B - D)\n",
    "# 4\n",
    "len(A | C) == len(B | D)"
   ]
  },
  {
   "cell_type": "code",
   "execution_count": 49,
   "metadata": {},
   "outputs": [
    {
     "data": {
      "text/plain": [
       "False"
      ]
     },
     "execution_count": 49,
     "metadata": {},
     "output_type": "execute_result"
    }
   ],
   "source": [
    "len(A & C) == len(B & D)"
   ]
  },
  {
   "cell_type": "code",
   "execution_count": 29,
   "metadata": {},
   "outputs": [
    {
     "name": "stdout",
     "output_type": "stream",
     "text": [
      "2 False\n",
      "2 True\n"
     ]
    }
   ],
   "source": [
    "# 1\n",
    "# case 1\n",
    "print(2, A & C <= B & D)\n",
    "# case 2\n",
    "print(2, A1 & C1 <= B1 & D1)"
   ]
  },
  {
   "cell_type": "code",
   "execution_count": 45,
   "metadata": {},
   "outputs": [
    {
     "name": "stdout",
     "output_type": "stream",
     "text": [
      "2 False\n",
      "2 True\n"
     ]
    }
   ],
   "source": [
    "# 3\n",
    "# case 1\n",
    "print(2, A ^ C <= B ^ D)\n",
    "# case 2\n",
    "print(2, A1 ^ C1 <= B1 ^ D1)"
   ]
  },
  {
   "cell_type": "code",
   "execution_count": 46,
   "metadata": {},
   "outputs": [
    {
     "name": "stdout",
     "output_type": "stream",
     "text": [
      "2 False\n",
      "2 True\n"
     ]
    }
   ],
   "source": [
    "# 3\n",
    "# case 1\n",
    "print(2, A - C <= B - D)\n",
    "# case 2\n",
    "print(2, A1 - C1 <= B1 - D1)"
   ]
  },
  {
   "cell_type": "code",
   "execution_count": 41,
   "metadata": {},
   "outputs": [
    {
     "name": "stdout",
     "output_type": "stream",
     "text": [
      "3 True\n",
      "3 True\n"
     ]
    }
   ],
   "source": [
    "# 5\n",
    "# case 1\n",
    "print(3, A | C <= B | D)\n",
    "# case 2\n",
    "print(3, A | C <= B | D)"
   ]
  },
  {
   "cell_type": "code",
   "execution_count": 44,
   "metadata": {},
   "outputs": [
    {
     "name": "stdout",
     "output_type": "stream",
     "text": [
      "4 True\n",
      "4 True\n"
     ]
    }
   ],
   "source": [
    "# 6\n",
    "# case 1\n",
    "print(4, A & C <= B & D)\n",
    "# case 2\n",
    "print(4, A1 & C1 <= B1 & D1)"
   ]
  },
  {
   "cell_type": "code",
   "execution_count": 43,
   "metadata": {},
   "outputs": [
    {
     "name": "stdout",
     "output_type": "stream",
     "text": [
      "4 True\n",
      "4 True\n"
     ]
    }
   ],
   "source": [
    "# 6\n",
    "# case 1\n",
    "print(4, A & C <= B | D)\n",
    "# case 2\n",
    "print(4, A1 & C1 <= B1 | D1)"
   ]
  },
  {
   "cell_type": "code",
   "execution_count": 23,
   "metadata": {},
   "outputs": [
    {
     "data": {
      "text/plain": [
       "True"
      ]
     },
     "execution_count": 23,
     "metadata": {},
     "output_type": "execute_result"
    }
   ],
   "source": [
    "set() <= {3}"
   ]
  },
  {
   "cell_type": "code",
   "execution_count": null,
   "metadata": {},
   "outputs": [],
   "source": []
  }
 ],
 "metadata": {
  "kernelspec": {
   "display_name": "Python 3.8.0 64-bit",
   "language": "python",
   "name": "python38064bita3e2b9284fe241009277b40c2dcf841c"
  },
  "language_info": {
   "codemirror_mode": {
    "name": "ipython",
    "version": 3
   },
   "file_extension": ".py",
   "mimetype": "text/x-python",
   "name": "python",
   "nbconvert_exporter": "python",
   "pygments_lexer": "ipython3",
   "version": "3.8.0"
  }
 },
 "nbformat": 4,
 "nbformat_minor": 4
}
