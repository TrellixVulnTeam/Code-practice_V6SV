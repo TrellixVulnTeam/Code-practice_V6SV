{
 "cells": [
  {
   "cell_type": "markdown",
   "metadata": {},
   "source": [
    "You are given an integer n. An array nums of length n + 1 is generated in the following way:\n",
    "\n",
    "nums[0] = 0\n",
    "nums[1] = 1\n",
    "nums[2 * i] = nums[i] when 2 <= 2 * i <= n\n",
    "nums[2 * i + 1] = nums[i] + nums[i + 1] when 2 <= 2 * i + 1 <= n\n",
    "Return the maximum integer in the array nums."
   ]
  },
  {
   "cell_type": "code",
   "execution_count": 82,
   "metadata": {},
   "outputs": [],
   "source": [
    "class Solution:\n",
    "    def getMaximumGenerated(self, n: int) -> int:\n",
    "        \n",
    "        if not n:\n",
    "            return 9\n",
    "        \n",
    "        nums = [0, 1]\n",
    "\n",
    "        for _ in range(2, n+1):\n",
    "            nums.append(0)\n",
    "\n",
    "        for i in range(0, n):\n",
    "            if n >= (2 * i): \n",
    "                nums[2 * i] = nums[i]\n",
    "            if n >= (2 * i + 1):\n",
    "                nums[2 * i + 1] = nums[i] + nums[i+1]\n",
    "\n",
    "        return max(nums)"
   ]
  },
  {
   "cell_type": "code",
   "execution_count": 86,
   "metadata": {},
   "outputs": [
    {
     "data": {
      "text/plain": [
       "3"
      ]
     },
     "execution_count": 86,
     "metadata": {},
     "output_type": "execute_result"
    }
   ],
   "source": [
    "Solution().getMaximumGenerated(7)"
   ]
  },
  {
   "cell_type": "code",
   "execution_count": null,
   "metadata": {},
   "outputs": [],
   "source": []
  }
 ],
 "metadata": {
  "kernelspec": {
   "display_name": "scoring",
   "language": "python",
   "name": "scoring"
  },
  "language_info": {
   "codemirror_mode": {
    "name": "ipython",
    "version": 3
   },
   "file_extension": ".py",
   "mimetype": "text/x-python",
   "name": "python",
   "nbconvert_exporter": "python",
   "pygments_lexer": "ipython3",
   "version": "3.8.0"
  }
 },
 "nbformat": 4,
 "nbformat_minor": 4
}
