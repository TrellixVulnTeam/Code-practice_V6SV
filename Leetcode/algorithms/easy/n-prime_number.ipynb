{
 "cells": [
  {
   "cell_type": "markdown",
   "metadata": {},
   "source": [
    "Count the number of prime numbers less than a non-negative number, n.\n",
    "\n",
    " \n",
    "\n",
    "Example 1:\n",
    "\n",
    "Input: n = 10\n",
    "Output: 4\n",
    "Explanation: There are 4 prime numbers less than 10, they are 2, 3, 5, 7.\n",
    "Example 2:\n",
    "\n",
    "Input: n = 0\n",
    "Output: 0\n",
    "Example 3:\n",
    "\n",
    "Input: n = 1\n",
    "Output: 0"
   ]
  },
  {
   "cell_type": "code",
   "execution_count": 109,
   "metadata": {},
   "outputs": [],
   "source": [
    "lst = []\n",
    "n = 20\n",
    "for num in range(0, n):\n",
    "    if num > 1:\n",
    "       # check for factors\n",
    "       for i in range(2, num):\n",
    "            if (num % i) == 0:\n",
    "                if num not in lst: lst.append(num) \n",
    "            "
   ]
  },
  {
   "cell_type": "code",
   "execution_count": 110,
   "metadata": {},
   "outputs": [
    {
     "data": {
      "text/plain": [
       "[4, 6, 8, 9, 10, 12, 14, 15, 16, 18]"
      ]
     },
     "execution_count": 110,
     "metadata": {},
     "output_type": "execute_result"
    }
   ],
   "source": [
    "lst"
   ]
  },
  {
   "cell_type": "code",
   "execution_count": 136,
   "metadata": {},
   "outputs": [],
   "source": [
    "class Solution:\n",
    "# @param {integer} n\n",
    "# @return {integer}\n",
    "    def countPrimes(self, n):\n",
    "        if n < 3:\n",
    "            return 0\n",
    "        primes = [True] * n\n",
    "        primes[0] = primes[1] = False\n",
    "        for i in range(2, int(n ** 0.5) + 1):\n",
    "            for j in range(i * i, n, i):\n",
    "                primes[j] = False\n",
    "        return sum(primes)"
   ]
  },
  {
   "cell_type": "code",
   "execution_count": 139,
   "metadata": {},
   "outputs": [
    {
     "data": {
      "text/plain": [
       "4"
      ]
     },
     "execution_count": 139,
     "metadata": {},
     "output_type": "execute_result"
    }
   ],
   "source": [
    "Solution().countPrimes(10)"
   ]
  },
  {
   "cell_type": "code",
   "execution_count": null,
   "metadata": {},
   "outputs": [],
   "source": []
  }
 ],
 "metadata": {
  "kernelspec": {
   "display_name": "Python 3.8.0 64-bit",
   "language": "python",
   "name": "python38064bita3e2b9284fe241009277b40c2dcf841c"
  },
  "language_info": {
   "codemirror_mode": {
    "name": "ipython",
    "version": 3
   },
   "file_extension": ".py",
   "mimetype": "text/x-python",
   "name": "python",
   "nbconvert_exporter": "python",
   "pygments_lexer": "ipython3",
   "version": "3.8.0"
  }
 },
 "nbformat": 4,
 "nbformat_minor": 4
}
