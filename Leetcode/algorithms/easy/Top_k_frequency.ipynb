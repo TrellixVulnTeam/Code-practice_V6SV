{
 "cells": [
  {
   "cell_type": "code",
   "execution_count": 14,
   "metadata": {},
   "outputs": [],
   "source": [
    "from collections import Counter"
   ]
  },
  {
   "cell_type": "code",
   "execution_count": 68,
   "metadata": {},
   "outputs": [],
   "source": [
    "class Solution:\n",
    "    def topKFrequent(self, nums, k: int):\n",
    "        \n",
    "        # Count unique elements\n",
    "        main_dict = Counter(nums)\n",
    "        \n",
    "        # Sort elements and retrive K elements in list\n",
    "        lst = sorted(main_dict, key=main_dict.get, reverse=True)[:k]\n",
    "        \n",
    "        return lst"
   ]
  },
  {
   "cell_type": "code",
   "execution_count": 69,
   "metadata": {},
   "outputs": [
    {
     "data": {
      "text/plain": [
       "[-1, 2]"
      ]
     },
     "execution_count": 69,
     "metadata": {},
     "output_type": "execute_result"
    }
   ],
   "source": [
    "Solution().topKFrequent(nums, k)"
   ]
  },
  {
   "cell_type": "code",
   "execution_count": null,
   "metadata": {},
   "outputs": [],
   "source": [
    "from collections import Counter\n",
    "\n",
    "class Solution:\n",
    "    def topKFrequent(self, nums: List[int], k: int) -> List[int]:\n",
    "        count = Counter(nums)\n",
    "        unique = list(count.keys())\n",
    "        \n",
    "        def partition(left, right, pivot_index) -> int:\n",
    "            pivot_frequency = count[unique[pivot_index]]\n",
    "            # 1. move pivot to end\n",
    "            unique[pivot_index], unique[right] = unique[right], unique[pivot_index]  \n",
    "            \n",
    "            # 2. move all less frequent elements to the left\n",
    "            store_index = left\n",
    "            for i in range(left, right):\n",
    "                if count[unique[i]] < pivot_frequency:\n",
    "                    unique[store_index], unique[i] = unique[i], unique[store_index]\n",
    "                    store_index += 1\n",
    "\n",
    "            # 3. move pivot to its final place\n",
    "            unique[right], unique[store_index] = unique[store_index], unique[right]  \n",
    "            \n",
    "            return store_index\n",
    "        \n",
    "        def quickselect(left, right, k_smallest) -> None:\n",
    "            \"\"\"\n",
    "            Sort a list within left..right till kth less frequent element\n",
    "            takes its place. \n",
    "            \"\"\"\n",
    "            # base case: the list contains only one element\n",
    "            if left == right: \n",
    "                return\n",
    "            \n",
    "            # select a random pivot_index\n",
    "            pivot_index = random.randint(left, right)     \n",
    "                            \n",
    "            # find the pivot position in a sorted list   \n",
    "            pivot_index = partition(left, right, pivot_index)\n",
    "            \n",
    "            # if the pivot is in its final sorted position\n",
    "            if k_smallest == pivot_index:\n",
    "                 return \n",
    "            # go left\n",
    "            elif k_smallest < pivot_index:\n",
    "                quickselect(left, pivot_index - 1, k_smallest)\n",
    "            # go right\n",
    "            else:\n",
    "                quickselect(pivot_index + 1, right, k_smallest)\n",
    "         \n",
    "        n = len(unique) \n",
    "        # kth top frequent element is (n - k)th less frequent.\n",
    "        # Do a partial sort: from less frequent to the most frequent, till\n",
    "        # (n - k)th less frequent element takes its place (n - k) in a sorted array. \n",
    "        # All element on the left are less frequent.\n",
    "        # All the elements on the right are more frequent.  \n",
    "        quickselect(0, n - 1, n - k)\n",
    "        # Return top k frequent elements\n",
    "        return unique[n - k:]"
   ]
  }
 ],
 "metadata": {
  "kernelspec": {
   "display_name": "Python 3.8.0 64-bit",
   "language": "python",
   "name": "python38064bita3e2b9284fe241009277b40c2dcf841c"
  },
  "language_info": {
   "codemirror_mode": {
    "name": "ipython",
    "version": 3
   },
   "file_extension": ".py",
   "mimetype": "text/x-python",
   "name": "python",
   "nbconvert_exporter": "python",
   "pygments_lexer": "ipython3",
   "version": "3.8.0"
  }
 },
 "nbformat": 4,
 "nbformat_minor": 4
}
