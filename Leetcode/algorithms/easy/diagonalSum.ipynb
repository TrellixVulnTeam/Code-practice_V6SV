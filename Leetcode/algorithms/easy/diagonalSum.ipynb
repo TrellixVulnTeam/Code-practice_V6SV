{
 "cells": [
  {
   "cell_type": "code",
   "execution_count": 3,
   "metadata": {},
   "outputs": [],
   "source": [
    "import numpy as np"
   ]
  },
  {
   "cell_type": "code",
   "execution_count": 147,
   "metadata": {},
   "outputs": [],
   "source": [
    "def inv_matrix(mat):\n",
    "    # Step 1. Numpy array\n",
    "    mat = np.array(mat)\n",
    "    filters = np.identity(mat.shape[0])\n",
    "\n",
    "    first_sum = mat[filters==1]\n",
    "    \n",
    "    # Step 2. \n",
    "    inv_zeros = np.zeros((mat.shape[0], mat.shape[0]))\n",
    "    i = -1\n",
    "    inv_col = mat.shape[0]\n",
    "    if mat.shape[0] % 2 == 0:\n",
    "        for _ in range(mat.shape[0]):\n",
    "            i+=1\n",
    "            inv_col-=1\n",
    "            inv_zeros[i][inv_col] = 1\n",
    "        second_sum = mat[inv_zeros==1]\n",
    "    else:\n",
    "        num_diag = mat.shape[0]\n",
    "        for _ in range(mat.shape[0]):\n",
    "            i+=1\n",
    "            inv_col-=1\n",
    "            inv_zeros[i][inv_col] = 1\n",
    "        inv_zeros[num_diag//2, num_diag//2] = 0\n",
    "        second_sum = mat[inv_zeros==1]\n",
    "        \n",
    "    \n",
    "    return np.sum(first_sum) + np.sum(second_sum)"
   ]
  },
  {
   "cell_type": "code",
   "execution_count": 163,
   "metadata": {},
   "outputs": [],
   "source": [
    "def inv_matrix(mat):\n",
    "    # Step 1. Numpy array\n",
    "    r = 0\n",
    "    num = 0\n",
    "    n = len(mat[0])\n",
    "    for i in range(len(mat[0])):\n",
    "        num += mat[i][i] + mat[i][n-1-i]\n",
    "    \n",
    "    if n%2 != 0:\n",
    "        num -= mat[n//2][n//2]        \n",
    "    \n",
    "    return num"
   ]
  },
  {
   "cell_type": "code",
   "execution_count": 164,
   "metadata": {},
   "outputs": [
    {
     "data": {
      "text/plain": [
       "8.0"
      ]
     },
     "execution_count": 164,
     "metadata": {},
     "output_type": "execute_result"
    }
   ],
   "source": [
    "inv_matrix(mat)"
   ]
  },
  {
   "cell_type": "code",
   "execution_count": null,
   "metadata": {},
   "outputs": [],
   "source": []
  }
 ],
 "metadata": {
  "kernelspec": {
   "display_name": "Python 3.8.0 64-bit",
   "language": "python",
   "name": "python38064bita3e2b9284fe241009277b40c2dcf841c"
  },
  "language_info": {
   "codemirror_mode": {
    "name": "ipython",
    "version": 3
   },
   "file_extension": ".py",
   "mimetype": "text/x-python",
   "name": "python",
   "nbconvert_exporter": "python",
   "pygments_lexer": "ipython3",
   "version": "3.8.0"
  }
 },
 "nbformat": 4,
 "nbformat_minor": 4
}
