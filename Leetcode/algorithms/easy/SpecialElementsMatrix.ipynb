{
 "cells": [
  {
   "cell_type": "code",
   "execution_count": null,
   "metadata": {},
   "outputs": [],
   "source": [
    "class Solution:\n",
    "    def numSpecial(self, mat: List[List[int]]) -> int:\n",
    "        special = 0\n",
    "        for r in range(len(mat)):\n",
    "            for c in range(len(mat[0])):\n",
    "                if mat[r][c] == 1:\n",
    "                    cols = sum([mat[r][col] for col in range(len(mat[0]))])\n",
    "                    rows = sum([mat[row][c] for row in range(len(mat))])\n",
    "                    if rows == cols == 1:\n",
    "                        special += 1\n",
    "        return special"
   ]
  },
  {
   "cell_type": "code",
   "execution_count": null,
   "metadata": {},
   "outputs": [],
   "source": [
    "class Solution:\n",
    "    def numSpecial(self, mat: List[List[int]]) -> int:\n",
    "        \n",
    "        rows = [sum(r) for r in mat]\n",
    "        cols = [sum(c) for c in zip(*mat)]\n",
    "        \n",
    "        return sum(mat[r][c] and cols[c]==1 and rows[r]==1\n",
    "                  for r in range(len(mat)) \n",
    "                  for c in range(len(mat[0])))"
   ]
  },
  {
   "cell_type": "code",
   "execution_count": 16,
   "metadata": {},
   "outputs": [],
   "source": [
    "mat = [[0,0,1,0],[0,0,0,0],[0,0,0,0],[0,1,0,0]]"
   ]
  },
  {
   "cell_type": "code",
   "execution_count": null,
   "metadata": {},
   "outputs": [],
   "source": []
  }
 ],
 "metadata": {
  "kernelspec": {
   "display_name": "scoring",
   "language": "python",
   "name": "scoring"
  },
  "language_info": {
   "codemirror_mode": {
    "name": "ipython",
    "version": 3
   },
   "file_extension": ".py",
   "mimetype": "text/x-python",
   "name": "python",
   "nbconvert_exporter": "python",
   "pygments_lexer": "ipython3",
   "version": "3.8.0"
  }
 },
 "nbformat": 4,
 "nbformat_minor": 4
}
