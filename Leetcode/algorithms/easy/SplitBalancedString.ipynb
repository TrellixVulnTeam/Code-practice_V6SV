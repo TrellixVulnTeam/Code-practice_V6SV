{
 "cells": [
  {
   "cell_type": "code",
   "execution_count": 1,
   "metadata": {},
   "outputs": [],
   "source": [
    "class Solution:\n",
    "    def balancedStringSplit(self, S: str) -> int:\n",
    "        m = c = 0\n",
    "        for s in S:\n",
    "            if s == 'L': c += 1\n",
    "            if s == 'R': c -= 1\n",
    "            if c == 0: m += 1\n",
    "        return m"
   ]
  },
  {
   "cell_type": "code",
   "execution_count": 2,
   "metadata": {},
   "outputs": [],
   "source": [
    "class Solution:\n",
    "    def balancedStringSplit(self, S: str) -> int:\n",
    "        len_index = len(S) - 1\n",
    "        pointer = 0\n",
    "        answer = 0\n",
    "        \n",
    "        while len_index >= 0:\n",
    "            \n",
    "            if S[len_index] == 'R': pointer+=1\n",
    "            if S[len_index] == 'L': pointer-=1\n",
    "            if pointer == 0: answer += 1\n",
    "            len_index -= 1 \n",
    "            \n",
    "        return answer"
   ]
  },
  {
   "cell_type": "code",
   "execution_count": null,
   "metadata": {},
   "outputs": [],
   "source": []
  }
 ],
 "metadata": {
  "kernelspec": {
   "display_name": "Python 3",
   "language": "python",
   "name": "python3"
  },
  "language_info": {
   "codemirror_mode": {
    "name": "ipython",
    "version": 3
   },
   "file_extension": ".py",
   "mimetype": "text/x-python",
   "name": "python",
   "nbconvert_exporter": "python",
   "pygments_lexer": "ipython3",
   "version": "3.7.9"
  }
 },
 "nbformat": 4,
 "nbformat_minor": 4
}
