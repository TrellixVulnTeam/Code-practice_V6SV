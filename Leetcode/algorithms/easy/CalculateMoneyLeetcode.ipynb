{
 "cells": [
  {
   "cell_type": "code",
   "execution_count": 19,
   "id": "stopped-myanmar",
   "metadata": {},
   "outputs": [],
   "source": [
    "class Solution:\n",
    "    def totalMoney(self, n: int) -> int:\n",
    "        ans = 0\n",
    "        rounds = n // 7 + 1\n",
    "        n += 1\n",
    "        for i in range(0, rounds):\n",
    "            for num in range(1, 8):\n",
    "                n -= 1\n",
    "                if n == 0:\n",
    "                    break\n",
    "                else:\n",
    "                    ans += num+i\n",
    "        return ans"
   ]
  },
  {
   "cell_type": "code",
   "execution_count": 29,
   "id": "cosmetic-arbor",
   "metadata": {},
   "outputs": [
    {
     "data": {
      "text/plain": [
       "96"
      ]
     },
     "execution_count": 29,
     "metadata": {},
     "output_type": "execute_result"
    }
   ],
   "source": [
    "Solution().totalMoney(20)"
   ]
  },
  {
   "cell_type": "code",
   "execution_count": 28,
   "id": "premier-sacramento",
   "metadata": {},
   "outputs": [],
   "source": [
    "class Solution:\n",
    "    def totalMoney(self, n: int) -> int:\n",
    "        numWeeks = 0\n",
    "        answer = 0\n",
    "        \n",
    "        for day in range(n):\n",
    "            if day % 7 == 0:\n",
    "                numWeeks += 1\n",
    "            answer += numWeeks + day % 7\n",
    "        return answer"
   ]
  },
  {
   "cell_type": "code",
   "execution_count": 31,
   "id": "settled-quarterly",
   "metadata": {},
   "outputs": [
    {
     "name": "stdout",
     "output_type": "stream",
     "text": [
      "11.5 µs ± 458 ns per loop (mean ± std. dev. of 7 runs, 100000 loops each)\n"
     ]
    }
   ],
   "source": [
    "%%timeit\n",
    "Solution().totalMoney(100)"
   ]
  },
  {
   "cell_type": "code",
   "execution_count": null,
   "id": "guilty-salvation",
   "metadata": {},
   "outputs": [],
   "source": []
  }
 ],
 "metadata": {
  "kernelspec": {
   "display_name": "Python 3",
   "language": "python",
   "name": "python3"
  },
  "language_info": {
   "codemirror_mode": {
    "name": "ipython",
    "version": 3
   },
   "file_extension": ".py",
   "mimetype": "text/x-python",
   "name": "python",
   "nbconvert_exporter": "python",
   "pygments_lexer": "ipython3",
   "version": "3.8.5"
  }
 },
 "nbformat": 4,
 "nbformat_minor": 5
}
