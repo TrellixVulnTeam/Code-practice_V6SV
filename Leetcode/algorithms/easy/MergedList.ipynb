{
 "cells": [
  {
   "cell_type": "code",
   "execution_count": null,
   "metadata": {},
   "outputs": [],
   "source": [
    "# Definition for singly-linked list.\n",
    "# class ListNode:\n",
    "#     def __init__(self, val=0, next=None):\n",
    "#         self.val = val\n",
    "#         self.next = next\n",
    "class Solution:\n",
    "    def mergeTwoLists(self, l1: ListNode, l2: ListNode) -> ListNode:\n",
    "        dummy = current = ListNode(0)\n",
    "        \n",
    "        while (l1 and l2):\n",
    "            if l1.val < l2.val:\n",
    "                current.next = l1\n",
    "                l1 = l1.next\n",
    "            else:\n",
    "                current.next = l2\n",
    "                l2 = l2.next\n",
    "            \n",
    "            current = current.next\n",
    "        \n",
    "        current.next = l1 or l2\n",
    "        return dummy.next"
   ]
  }
 ],
 "metadata": {
  "kernelspec": {
   "display_name": "scoring",
   "language": "python",
   "name": "scoring"
  },
  "language_info": {
   "codemirror_mode": {
    "name": "ipython",
    "version": 3
   },
   "file_extension": ".py",
   "mimetype": "text/x-python",
   "name": "python",
   "nbconvert_exporter": "python",
   "pygments_lexer": "ipython3",
   "version": "3.8.0"
  }
 },
 "nbformat": 4,
 "nbformat_minor": 4
}
