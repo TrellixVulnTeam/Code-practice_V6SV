{
 "cells": [
  {
   "cell_type": "code",
   "execution_count": 64,
   "metadata": {},
   "outputs": [],
   "source": [
    "releaseTimes = [9,29,49,50]\n",
    "keysPressed = \"cbcd\""
   ]
  },
  {
   "cell_type": "code",
   "execution_count": 38,
   "metadata": {},
   "outputs": [],
   "source": [
    "releaseTimes = [19,22,28,29,66,81,93,97]\n",
    "keysPressed = \"fnfaaxha\""
   ]
  },
  {
   "cell_type": "code",
   "execution_count": 85,
   "metadata": {},
   "outputs": [],
   "source": [
    "class Solution:\n",
    "    def slowestKey(self, releaseTimes: list, keysPressed: str) -> str:\n",
    "         # Creating list of duration values\n",
    "        resultsList = [releaseTimes[0]]\n",
    "        # Append duration values\n",
    "        for i in range(1, len(releaseTimes)):\n",
    "            resultsList.append(releaseTimes[i]-releaseTimes[i-1])\n",
    "         # Getting max value in resultList\n",
    "        max_value = max(resultsList)\n",
    "         # Dict with values\n",
    "        main_dict = list(zip(keysPressed, resultsList))\n",
    "        \n",
    "        # Filter values in case of same duration and choose letter with larger lexicographically\n",
    "        letter_duration_pair = max(filter(lambda x: x[1] == max_value, main_dict), key=lambda x: x[0])\n",
    "        \n",
    "        return letter_duration_pair[0]"
   ]
  },
  {
   "cell_type": "code",
   "execution_count": 86,
   "metadata": {},
   "outputs": [
    {
     "data": {
      "text/plain": [
       "'c'"
      ]
     },
     "execution_count": 86,
     "metadata": {},
     "output_type": "execute_result"
    }
   ],
   "source": [
    "Solution().slowestKey(releaseTimes, keysPressed)"
   ]
  },
  {
   "cell_type": "code",
   "execution_count": null,
   "metadata": {},
   "outputs": [],
   "source": []
  }
 ],
 "metadata": {
  "kernelspec": {
   "display_name": "scoring",
   "language": "python",
   "name": "scoring"
  },
  "language_info": {
   "codemirror_mode": {
    "name": "ipython",
    "version": 3
   },
   "file_extension": ".py",
   "mimetype": "text/x-python",
   "name": "python",
   "nbconvert_exporter": "python",
   "pygments_lexer": "ipython3",
   "version": "3.8.0"
  }
 },
 "nbformat": 4,
 "nbformat_minor": 4
}
