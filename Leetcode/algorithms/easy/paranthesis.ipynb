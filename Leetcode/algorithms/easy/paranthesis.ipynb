{
 "cells": [
  {
   "cell_type": "code",
   "execution_count": null,
   "metadata": {},
   "outputs": [],
   "source": [
    "Given a string s containing just the characters '(', ')', '{', '}', '[' and ']', determine if the input string is valid.\n",
    "\n",
    "An input string is valid if:\n",
    "\n",
    "Open brackets must be closed by the same type of brackets.\n",
    "Open brackets must be closed in the correct order.\n"
   ]
  },
  {
   "cell_type": "code",
   "execution_count": null,
   "metadata": {},
   "outputs": [],
   "source": [
    "Example 1:\n",
    "\n",
    "Input: s = \"()\"\n",
    "Output: true\n",
    "Example 2:\n",
    "\n",
    "Input: s = \"()[]{}\"\n",
    "Output: true\n",
    "Example 3:\n",
    "\n",
    "Input: s = \"(]\"\n",
    "Output: false\n",
    "Example 4:\n",
    "\n",
    "Input: s = \"([)]\"\n",
    "Output: false\n",
    "Example 5:\n",
    "\n",
    "Input: s = \"{[]}\"\n",
    "Output: true"
   ]
  },
  {
   "cell_type": "code",
   "execution_count": 5,
   "metadata": {},
   "outputs": [],
   "source": [
    "def paranthesis(seq: str) -> bool:\n",
    "    \"\"\"Return True if brackets are right, else False\"\"\"\n",
    "    \n",
    "    dict_brackets = {\n",
    "                    '(':')',\n",
    "                    '{':'}',\n",
    "                    '[':']',\n",
    "                  }\n",
    "    open_bar = set(['[', '{', '('])\n",
    "    stack = []\n",
    "    \n",
    "    for bracket in seq:\n",
    "        if bracket in open_bar:\n",
    "            stack.append(bracket)\n",
    "        elif stack and bracket == dict_brackets[stack[-1]]:\n",
    "            stack.pop()\n",
    "        else:\n",
    "            return False\n",
    "    return len(stack) == 0\n",
    "    \n"
   ]
  },
  {
   "cell_type": "code",
   "execution_count": 62,
   "metadata": {},
   "outputs": [],
   "source": [
    "def isValid(self, s: str) -> bool:\n",
    "    \"\"\"Return True if brackets are right, else False\"\"\"\n",
    "    \n",
    "    while '[]' in s or '()' in s or '{}' in s:\n",
    "        s = s.replace('[]', '').replace('()', '').replace('{}', '')\n",
    "    return not len(s)"
   ]
  },
  {
   "cell_type": "code",
   "execution_count": 7,
   "metadata": {},
   "outputs": [],
   "source": [
    "s = \"((({{[\""
   ]
  },
  {
   "cell_type": "code",
   "execution_count": 60,
   "metadata": {},
   "outputs": [
    {
     "data": {
      "text/plain": [
       "False"
      ]
     },
     "execution_count": 60,
     "metadata": {},
     "output_type": "execute_result"
    }
   ],
   "source": [
    "'[]' in s"
   ]
  },
  {
   "cell_type": "code",
   "execution_count": 1,
   "metadata": {},
   "outputs": [],
   "source": [
    "s = '([](){([])})'"
   ]
  },
  {
   "cell_type": "code",
   "execution_count": 14,
   "metadata": {},
   "outputs": [
    {
     "data": {
      "text/plain": [
       "'()[]}'"
      ]
     },
     "execution_count": 14,
     "metadata": {},
     "output_type": "execute_result"
    }
   ],
   "source": [
    "dict_brackets"
   ]
  },
  {
   "cell_type": "code",
   "execution_count": 60,
   "metadata": {},
   "outputs": [],
   "source": [
    "def brackets(sequence: str):\n",
    "    brackets_f = '({[]})'\n",
    "    \n",
    "    brackets = {')': '(', ']': '[', '}': '{'}\n",
    "    first_left_bracket_pos = 0\n",
    "\n",
    "    for i, char in enumerate(sequence, 1):\n",
    "        if char in brackets.values():\n",
    "            stack.append(char)\n",
    "            if first_left_bracket_pos == 0:\n",
    "                first_left_bracket_pos = i\n",
    "\n",
    "        elif char in brackets:\n",
    "            if not stack or brackets[char] != stack.pop():\n",
    "                return i\n",
    "            \n",
    "    if len(stack) == 0:\n",
    "        return 'Success' "
   ]
  },
  {
   "cell_type": "code",
   "execution_count": null,
   "metadata": {},
   "outputs": [],
   "source": []
  }
 ],
 "metadata": {
  "kernelspec": {
   "display_name": "Python 3.8.0 64-bit",
   "language": "python",
   "name": "python38064bita3e2b9284fe241009277b40c2dcf841c"
  },
  "language_info": {
   "codemirror_mode": {
    "name": "ipython",
    "version": 3
   },
   "file_extension": ".py",
   "mimetype": "text/x-python",
   "name": "python",
   "nbconvert_exporter": "python",
   "pygments_lexer": "ipython3",
   "version": "3.8.0"
  }
 },
 "nbformat": 4,
 "nbformat_minor": 4
}
