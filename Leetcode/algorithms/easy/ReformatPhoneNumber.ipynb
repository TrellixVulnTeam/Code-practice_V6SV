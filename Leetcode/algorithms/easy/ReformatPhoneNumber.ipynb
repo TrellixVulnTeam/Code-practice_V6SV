{
 "cells": [
  {
   "cell_type": "code",
   "execution_count": null,
   "metadata": {},
   "outputs": [],
   "source": [
    "You are given a phone number as a string number. number consists of digits, spaces ' ', and/or dashes '-'.\n",
    "\n",
    "You would like to reformat the phone number in a certain manner. Firstly, remove all spaces and dashes. Then, group the digits from left to right into blocks of length 3 until there are 4 or fewer digits. The final digits are then grouped as follows:\n",
    "\n",
    "2 digits: A single block of length 2.\n",
    "3 digits: A single block of length 3.\n",
    "4 digits: Two blocks of length 2 each.\n",
    "The blocks are then joined by dashes. Notice that the reformatting process should never produce any blocks of length 1 and produce at most two blocks of length 2.\n",
    "\n",
    "Return the phone number after formatting."
   ]
  },
  {
   "cell_type": "code",
   "execution_count": 1,
   "metadata": {},
   "outputs": [],
   "source": [
    "nums = \"1-23-45 6\""
   ]
  },
  {
   "cell_type": "code",
   "execution_count": null,
   "metadata": {},
   "outputs": [],
   "source": []
  },
  {
   "cell_type": "code",
   "execution_count": 3,
   "metadata": {},
   "outputs": [],
   "source": [
    "nums = ''.join([x for x in nums if x != '-' and x != ' '])"
   ]
  },
  {
   "cell_type": "code",
   "execution_count": 4,
   "metadata": {},
   "outputs": [
    {
     "data": {
      "text/plain": [
       "'123456'"
      ]
     },
     "execution_count": 4,
     "metadata": {},
     "output_type": "execute_result"
    }
   ],
   "source": [
    "nums"
   ]
  },
  {
   "cell_type": "code",
   "execution_count": 63,
   "metadata": {},
   "outputs": [],
   "source": [
    "class Solution:\n",
    "    def reformatNumber(self, nums: str) -> str:\n",
    "\n",
    "        # Deleting '-' and ' ' chars\n",
    "        nums = ''.join([x for x in nums if x != '-' and x != ' '])\n",
    "\n",
    "        # Return empty string if nums is empty\n",
    "        if not nums:\n",
    "            return ''\n",
    "\n",
    "        # Return string if nums is less than 3\n",
    "        if len(nums) <=3:\n",
    "            return nums\n",
    "        # else\n",
    "        else:\n",
    "            if len(nums) % 3 == 0:\n",
    "                lst = []\n",
    "                for x in range(0, len(nums), 3):\n",
    "                    lst.append(nums[x: x+3])\n",
    "                return '-'.join(lst)\n",
    "            elif len(nums) % 3 == 1:\n",
    "                lst = []\n",
    "                for x in range(0, len(nums[:-2]), 3):\n",
    "                    lst.append(nums[:-4][x: x+3])\n",
    "                lst.pop()\n",
    "                lst.append(nums[-4:-2])\n",
    "                lst.append(nums[-2:])\n",
    "                return '-'.join(lst)\n",
    "            else:\n",
    "                lst = []\n",
    "                for x in range(0, len(nums[:-2]), 3):\n",
    "                    lst.append(nums[:-2][x: x+3])\n",
    "                lst.append(nums[-2:])\n",
    "                return '-'.join(lst)"
   ]
  },
  {
   "cell_type": "code",
   "execution_count": 71,
   "metadata": {},
   "outputs": [
    {
     "name": "stdout",
     "output_type": "stream",
     "text": [
      "6.68 µs ± 305 ns per loop (mean ± std. dev. of 7 runs, 100000 loops each)\n"
     ]
    }
   ],
   "source": [
    "%%timeit\n",
    "Solution().reformatNumber('1111111111')"
   ]
  },
  {
   "cell_type": "code",
   "execution_count": 60,
   "metadata": {},
   "outputs": [],
   "source": [
    "class Solution:\n",
    "    def reformatNumber(self, number: str) -> str:\n",
    "        number = number.replace(\"-\", \"\").replace(\" \", \"\") # removing - and space \n",
    "        ans = []\n",
    "        for i in range(0, len(number), 3): \n",
    "            if len(number) - i != 4: ans.append(number[i:i+3])\n",
    "            else: \n",
    "                ans.extend([number[i:i+2], number[i+2:]])\n",
    "                break \n",
    "        return \"-\".join(ans)"
   ]
  },
  {
   "cell_type": "code",
   "execution_count": 72,
   "metadata": {},
   "outputs": [
    {
     "name": "stdout",
     "output_type": "stream",
     "text": [
      "6.61 µs ± 250 ns per loop (mean ± std. dev. of 7 runs, 100000 loops each)\n"
     ]
    }
   ],
   "source": [
    "%%timeit\n",
    "Solution().reformatNumber('1111111111')"
   ]
  },
  {
   "cell_type": "code",
   "execution_count": 67,
   "metadata": {},
   "outputs": [],
   "source": [
    "class Solution:\n",
    "    def reformatNumber(self, number: str) -> str:\n",
    "        return re.sub('(...?(?=..))', r'\\1-', re.sub('\\D', '', number))"
   ]
  },
  {
   "cell_type": "code",
   "execution_count": 69,
   "metadata": {},
   "outputs": [],
   "source": [
    "import re"
   ]
  },
  {
   "cell_type": "code",
   "execution_count": null,
   "metadata": {},
   "outputs": [],
   "source": [
    "%%timeit\n",
    "Solution().reformatNumber('1111111111')"
   ]
  },
  {
   "cell_type": "code",
   "execution_count": null,
   "metadata": {},
   "outputs": [],
   "source": []
  }
 ],
 "metadata": {
  "kernelspec": {
   "display_name": "Python 3.8.0 64-bit",
   "language": "python",
   "name": "python38064bita3e2b9284fe241009277b40c2dcf841c"
  },
  "language_info": {
   "codemirror_mode": {
    "name": "ipython",
    "version": 3
   },
   "file_extension": ".py",
   "mimetype": "text/x-python",
   "name": "python",
   "nbconvert_exporter": "python",
   "pygments_lexer": "ipython3",
   "version": "3.8.0"
  }
 },
 "nbformat": 4,
 "nbformat_minor": 4
}
