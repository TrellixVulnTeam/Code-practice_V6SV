{
 "cells": [
  {
   "cell_type": "code",
   "execution_count": 6,
   "metadata": {},
   "outputs": [],
   "source": [
    "strs = [\"dog\",\"dacecar\",\"dar\"]"
   ]
  },
  {
   "cell_type": "code",
   "execution_count": 2,
   "metadata": {
    "jupyter": {
     "source_hidden": true
    }
   },
   "outputs": [],
   "source": [
    "def longestCommonPrefix(strs) -> str:\n",
    "    \n",
    "    if not strs:\n",
    "        return ''\n",
    "    strs = sorted(strs, key=lambda x: len(x))\n",
    "\n",
    "    for i, x in enumerate(strs[0]):\n",
    "        for word in strs:\n",
    "            if word[i] != x:\n",
    "                return strs[0][:i]\n",
    "    return strs[0]"
   ]
  },
  {
   "cell_type": "code",
   "execution_count": 7,
   "metadata": {},
   "outputs": [
    {
     "data": {
      "text/plain": [
       "'d'"
      ]
     },
     "execution_count": 7,
     "metadata": {},
     "output_type": "execute_result"
    }
   ],
   "source": [
    "longestCommonPrefix(strs)"
   ]
  },
  {
   "cell_type": "code",
   "execution_count": 4,
   "metadata": {},
   "outputs": [],
   "source": [
    "def longestComminPrefix(list_of_strings: list) -> str:\n",
    "    if not list_of_strings:\n",
    "        return ''\n",
    "    \n",
    "    # Choose shortest word\n",
    "    shortest_word = min(list_of_strings, key=len)\n",
    "    \n",
    "    # Iterate through all elements in string to check common prefix\n",
    "    for i, x in enumerate(list_of_strings):\n",
    "        for word in list_of_strings:\n",
    "            # if one element does not match return shortest word indexed [:i]\n",
    "            if word[0] != x:\n",
    "                return shortest_word[:i]\n",
    "    return shortest_word"
   ]
  },
  {
   "cell_type": "code",
   "execution_count": null,
   "metadata": {},
   "outputs": [],
   "source": []
  }
 ],
 "metadata": {
  "kernelspec": {
   "display_name": "Python 3.8.0 64-bit",
   "language": "python",
   "name": "python38064bita3e2b9284fe241009277b40c2dcf841c"
  },
  "language_info": {
   "codemirror_mode": {
    "name": "ipython",
    "version": 3
   },
   "file_extension": ".py",
   "mimetype": "text/x-python",
   "name": "python",
   "nbconvert_exporter": "python",
   "pygments_lexer": "ipython3",
   "version": "3.8.0"
  }
 },
 "nbformat": 4,
 "nbformat_minor": 4
}
