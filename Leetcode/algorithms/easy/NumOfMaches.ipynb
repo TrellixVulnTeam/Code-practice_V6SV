{
 "cells": [
  {
   "cell_type": "code",
   "execution_count": 36,
   "metadata": {},
   "outputs": [],
   "source": [
    "class Solution:\n",
    "    def numberOfMatches(self, n: int) -> int:\n",
    "        matches = 0\n",
    "        while n > 1:\n",
    "            if n % 2 == 0:\n",
    "                matches += n/2\n",
    "                n -= n/2 \n",
    "            else:\n",
    "                matches += (n-1)//2\n",
    "                n = (n-1)/2+1\n",
    "        return int(matches)"
   ]
  },
  {
   "cell_type": "code",
   "execution_count": 38,
   "metadata": {},
   "outputs": [],
   "source": [
    "class Solution:\n",
    "    def numberOfMatches(self, n: int) -> int:\n",
    "        ans = 0\n",
    "        while n != 1:\n",
    "            ans += (n+1) // 2\n",
    "            n //= 2\n",
    "        return ans"
   ]
  },
  {
   "cell_type": "code",
   "execution_count": 39,
   "metadata": {},
   "outputs": [
    {
     "data": {
      "text/plain": [
       "6"
      ]
     },
     "execution_count": 39,
     "metadata": {},
     "output_type": "execute_result"
    }
   ],
   "source": [
    "Solution().numberOfMatches(7)"
   ]
  },
  {
   "cell_type": "code",
   "execution_count": null,
   "metadata": {},
   "outputs": [],
   "source": []
  }
 ],
 "metadata": {
  "kernelspec": {
   "display_name": "scoring",
   "language": "python",
   "name": "scoring"
  },
  "language_info": {
   "codemirror_mode": {
    "name": "ipython",
    "version": 3
   },
   "file_extension": ".py",
   "mimetype": "text/x-python",
   "name": "python",
   "nbconvert_exporter": "python",
   "pygments_lexer": "ipython3",
   "version": "3.8.0"
  }
 },
 "nbformat": 4,
 "nbformat_minor": 4
}
