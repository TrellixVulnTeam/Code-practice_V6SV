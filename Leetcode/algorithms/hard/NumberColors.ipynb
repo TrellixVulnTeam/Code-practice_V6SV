{
 "cells": [
  {
   "cell_type": "code",
   "execution_count": 17,
   "metadata": {},
   "outputs": [],
   "source": [
    "def numberColor(n: int) -> int:\n",
    "    color3 = 6\n",
    "            # num of single line with 2 colors, 3 * 2\n",
    "    color2 = 6\n",
    "\n",
    "    for i in range(n-1):\n",
    "        print(i)\n",
    "        temp = color3 \n",
    "        color3 = (2*color3 + 2*color2)\n",
    "        color2 = (2*temp + 3*color2)\n",
    "    \n",
    "    return (color3+color2) % (10^9+7)"
   ]
  }
 ],
 "metadata": {
  "kernelspec": {
   "display_name": "scoring",
   "language": "python",
   "name": "scoring"
  },
  "language_info": {
   "codemirror_mode": {
    "name": "ipython",
    "version": 3
   },
   "file_extension": ".py",
   "mimetype": "text/x-python",
   "name": "python",
   "nbconvert_exporter": "python",
   "pygments_lexer": "ipython3",
   "version": "3.8.0"
  }
 },
 "nbformat": 4,
 "nbformat_minor": 4
}
