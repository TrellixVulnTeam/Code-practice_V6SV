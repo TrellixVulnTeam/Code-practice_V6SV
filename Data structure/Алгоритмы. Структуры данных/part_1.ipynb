{
 "cells": [
  {
   "cell_type": "code",
   "execution_count": 46,
   "metadata": {},
   "outputs": [],
   "source": [
    "brackets = { \n",
    "'{': 0, \n",
    "'[': 0, \n",
    "'(': 0,}"
   ]
  },
  {
   "cell_type": "code",
   "execution_count": 39,
   "metadata": {},
   "outputs": [],
   "source": [
    "def checker(index, bracket): \n",
    "    if bracket == '{' or bracket == '[' or bracket == '(': \n",
    "        brackets[bracket] += 1 \n",
    "    elif bracket == '}': \n",
    "        brackets['{'] -= 1 \n",
    "        if brackets['{'] < 0:\n",
    "            return index + 1\n",
    "    elif bracket == ']': \n",
    "        brackets['['] -= 1 \n",
    "        if brackets['['] < 0:\n",
    "            return index + 1\n",
    "    elif bracket == ')': \n",
    "        brackets['('] -= 1\n",
    "        if brackets['('] < 0:\n",
    "            return index + 1"
   ]
  },
  {
   "cell_type": "code",
   "execution_count": 47,
   "metadata": {},
   "outputs": [
    {
     "name": "stdout",
     "output_type": "stream",
     "text": [
      "Success\n"
     ]
    }
   ],
   "source": [
    "for index, bracket in enumerate('([](){([])})'):\n",
    "    index = checker(index, bracket)\n",
    "if not index:\n",
    "    print('Success')\n",
    "else:\n",
    "    print(index)"
   ]
  },
  {
   "cell_type": "code",
   "execution_count": 48,
   "metadata": {},
   "outputs": [],
   "source": [
    "index"
   ]
  },
  {
   "cell_type": "code",
   "execution_count": 49,
   "metadata": {},
   "outputs": [
    {
     "data": {
      "text/plain": [
       "{'{': 0, '[': 0, '(': 0}"
      ]
     },
     "execution_count": 49,
     "metadata": {},
     "output_type": "execute_result"
    }
   ],
   "source": [
    "brackets"
   ]
  },
  {
   "cell_type": "code",
   "execution_count": 77,
   "metadata": {},
   "outputs": [
    {
     "name": "stdout",
     "output_type": "stream",
     "text": [
      "Success\n"
     ]
    }
   ],
   "source": [
    "brackets = { \n",
    "'{': 0, \n",
    "'[': 0, \n",
    "'(': 0,}\n",
    "\n",
    "def checker(index, bracket): \n",
    "    if bracket == '{' or bracket == '[' or bracket == '(': \n",
    "        brackets[bracket] += 1 \n",
    "    elif bracket == '}': \n",
    "        brackets['{'] -= 1 \n",
    "        if brackets['{'] < 0:\n",
    "            return index + 1\n",
    "    elif bracket == ']': \n",
    "        brackets['['] -= 1 \n",
    "        if brackets['['] < 0:\n",
    "            return index + 1\n",
    "    elif bracket == ')': \n",
    "        brackets['('] -= 1\n",
    "        if brackets['('] < 0:\n",
    "            return index + 1\n",
    "\n",
    "for index, bracket in enumerate('( [ ) ] '):\n",
    "    index = checker(index, bracket)\n",
    "\n",
    "if index:\n",
    "    print(index)\n",
    "else:\n",
    "    print('Success')"
   ]
  },
  {
   "cell_type": "code",
   "execution_count": 76,
   "metadata": {},
   "outputs": [
    {
     "data": {
      "text/plain": [
       "1"
      ]
     },
     "execution_count": 76,
     "metadata": {},
     "output_type": "execute_result"
    }
   ],
   "source": [
    "sum(brackets.values())"
   ]
  },
  {
   "cell_type": "code",
   "execution_count": 2,
   "metadata": {},
   "outputs": [],
   "source": [
    "_str = '([(])'"
   ]
  },
  {
   "cell_type": "code",
   "execution_count": 4,
   "metadata": {},
   "outputs": [
    {
     "name": "stdout",
     "output_type": "stream",
     "text": [
      "4\n",
      "5\n",
      "1\n",
      "Success\n"
     ]
    }
   ],
   "source": [
    "s = []\n",
    "opens = r'([{'\n",
    "closes = r')]}'\n",
    "for index, bracket in enumerate(_str):\n",
    "    if bracket in closes:\n",
    "        if len(s) == 0 or s.pop()[0] != opens[closes.index(bracket)]:\n",
    "            print(index + 1)  # 1 based\n",
    "            exit()\n",
    "    elif bracket in opens:\n",
    "        s.append((bracket, index))\n",
    "if len(s) > 0:\n",
    "    print(s.pop()[1] + 1)  # 1 based\n",
    "    exit()\n",
    "\n",
    "print('Success')"
   ]
  },
  {
   "cell_type": "code",
   "execution_count": 46,
   "metadata": {},
   "outputs": [
    {
     "data": {
      "text/plain": [
       "[('(', 0), ('[', 1), ('(', 2)]"
      ]
     },
     "execution_count": 46,
     "metadata": {},
     "output_type": "execute_result"
    }
   ],
   "source": [
    "s"
   ]
  },
  {
   "cell_type": "code",
   "execution_count": 47,
   "metadata": {},
   "outputs": [
    {
     "data": {
      "text/plain": [
       "'('"
      ]
     },
     "execution_count": 47,
     "metadata": {},
     "output_type": "execute_result"
    }
   ],
   "source": [
    "s.pop()[0]"
   ]
  },
  {
   "cell_type": "code",
   "execution_count": 5,
   "metadata": {},
   "outputs": [
    {
     "data": {
      "text/plain": [
       "0"
      ]
     },
     "execution_count": 5,
     "metadata": {},
     "output_type": "execute_result"
    }
   ],
   "source": [
    "closes.index(')')"
   ]
  },
  {
   "cell_type": "markdown",
   "metadata": {},
   "source": [
    "## Height of tree"
   ]
  },
  {
   "cell_type": "code",
   "execution_count": 74,
   "metadata": {},
   "outputs": [],
   "source": [
    "# put your python code here\n",
    "import sys\n",
    "import pprint\n",
    "sys.setrecursionlimit(20000)\n",
    "# import fileinput\n",
    "\n",
    "# for line in fileinput.input():\n",
    "#     x = [int(num) for num in line.strip().split(' ')]\n",
    "# parent_head = x.index(-1)\n",
    "\n",
    "line = '9 7 5 5 2 9 9 9 2 -1'\n",
    "x = [int(num) for num in line.strip().split(' ')]\n",
    "\n",
    "# def children(head):\n",
    "parents = {}\n",
    "for index, element in enumerate(x):\n",
    "    if element in parents and element != -1:\n",
    "        parents[element].append(index)\n",
    "    else:\n",
    "        parents[element] = [index]\n",
    "parent_head = parents.pop(-1)"
   ]
  },
  {
   "cell_type": "code",
   "execution_count": 49,
   "metadata": {},
   "outputs": [
    {
     "data": {
      "text/plain": [
       "dict_keys([9, 7, 5, 2])"
      ]
     },
     "execution_count": 49,
     "metadata": {},
     "output_type": "execute_result"
    }
   ],
   "source": [
    "list(parents.keys())"
   ]
  },
  {
   "cell_type": "code",
   "execution_count": 83,
   "metadata": {},
   "outputs": [
    {
     "data": {
      "text/plain": [
       "{9: [0, 5, 6, 7], 7: [1], 5: [2, 3], 2: [4, 8]}"
      ]
     },
     "execution_count": 83,
     "metadata": {},
     "output_type": "execute_result"
    }
   ],
   "source": [
    "import pprint\n",
    "parents"
   ]
  },
  {
   "cell_type": "code",
   "execution_count": 98,
   "metadata": {},
   "outputs": [],
   "source": [
    "import sys\n",
    "sys.setrecursionlimit(50000)\n",
    "\n",
    "\n",
    "parents = [int(i) for i in line.strip().split(' ')]\n",
    "assert(10 == len(parents))\n",
    "\n",
    "children = [[] for i in range(10)]\n",
    "\n",
    "root = None\n",
    "for i in range(10):\n",
    "    if parents[i] == -1:\n",
    "        root = i\n",
    "    else:\n",
    "        children[parents[i]] += [i]\n",
    "\n",
    "def get_height(v, height):\n",
    "    max_ = height\n",
    "    for c in children[v]:\n",
    "        h = get_height(c, height) + 1\n",
    "        if max_ < h:\n",
    "            max_ = h\n",
    "    return max_\n",
    "\n",
    "print(get_height(root, 1))"
   ]
  },
  {
   "cell_type": "code",
   "execution_count": 105,
   "metadata": {},
   "outputs": [
    {
     "data": {
      "text/plain": [
       "[9, 7, 5, 5, 2, 9, 9, 9, 2, -1]"
      ]
     },
     "execution_count": 105,
     "metadata": {},
     "output_type": "execute_result"
    }
   ],
   "source": [
    "parents"
   ]
  },
  {
   "cell_type": "code",
   "execution_count": 106,
   "metadata": {},
   "outputs": [
    {
     "data": {
      "text/plain": [
       "[]"
      ]
     },
     "execution_count": 106,
     "metadata": {},
     "output_type": "execute_result"
    }
   ],
   "source": [
    "children[9]"
   ]
  },
  {
   "cell_type": "code",
   "execution_count": 93,
   "metadata": {},
   "outputs": [],
   "source": [
    "children[parents[9]] += [44]"
   ]
  },
  {
   "cell_type": "code",
   "execution_count": 94,
   "metadata": {},
   "outputs": [
    {
     "data": {
      "text/plain": [
       "[[], [], [4, 8], [], [], [2, 3], [], [1], [], [0, 5, 6, 7, 44]]"
      ]
     },
     "execution_count": 94,
     "metadata": {},
     "output_type": "execute_result"
    }
   ],
   "source": [
    "children"
   ]
  },
  {
   "cell_type": "code",
   "execution_count": 95,
   "metadata": {},
   "outputs": [
    {
     "ename": "TypeError",
     "evalue": "'int' object is not iterable",
     "output_type": "error",
     "traceback": [
      "\u001b[0;31m---------------------------------------------------------------------------\u001b[0m",
      "\u001b[0;31mTypeError\u001b[0m                                 Traceback (most recent call last)",
      "\u001b[0;32m<ipython-input-95-7d3b88065c22>\u001b[0m in \u001b[0;36m<module>\u001b[0;34m\u001b[0m\n\u001b[0;32m----> 1\u001b[0;31m \u001b[0mchildren\u001b[0m\u001b[0;34m[\u001b[0m\u001b[0mparents\u001b[0m\u001b[0;34m[\u001b[0m\u001b[0;36m9\u001b[0m\u001b[0;34m]\u001b[0m\u001b[0;34m]\u001b[0m \u001b[0;34m+=\u001b[0m \u001b[0;36m44\u001b[0m\u001b[0;34m\u001b[0m\u001b[0;34m\u001b[0m\u001b[0m\n\u001b[0m",
      "\u001b[0;31mTypeError\u001b[0m: 'int' object is not iterable"
     ]
    }
   ],
   "source": [
    "children[parents[9]] += 44"
   ]
  },
  {
   "cell_type": "code",
   "execution_count": 89,
   "metadata": {},
   "outputs": [
    {
     "name": "stdout",
     "output_type": "stream",
     "text": [
      "4\n"
     ]
    }
   ],
   "source": [
    "def get_height(v, height):\n",
    "    max_ = height\n",
    "    for c in children[v]:\n",
    "        h = get_height(c, height) + 1\n",
    "        if max_ < h:\n",
    "            max_ = h\n",
    "    return max_\n",
    "\n",
    "print(get_height(root, 1))"
   ]
  },
  {
   "cell_type": "code",
   "execution_count": null,
   "metadata": {},
   "outputs": [],
   "source": []
  }
 ],
 "metadata": {
  "kernelspec": {
   "display_name": "Python 3.8.0 64-bit",
   "language": "python",
   "name": "python38064bita3e2b9284fe241009277b40c2dcf841c"
  },
  "language_info": {
   "codemirror_mode": {
    "name": "ipython",
    "version": 3
   },
   "file_extension": ".py",
   "mimetype": "text/x-python",
   "name": "python",
   "nbconvert_exporter": "python",
   "pygments_lexer": "ipython3",
   "version": "3.8.0"
  }
 },
 "nbformat": 4,
 "nbformat_minor": 4
}
