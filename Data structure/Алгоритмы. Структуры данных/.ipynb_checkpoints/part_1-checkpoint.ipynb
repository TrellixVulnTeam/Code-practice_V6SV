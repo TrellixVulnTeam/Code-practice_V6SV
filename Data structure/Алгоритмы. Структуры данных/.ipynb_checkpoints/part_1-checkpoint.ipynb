{
 "cells": [
  {
   "cell_type": "code",
   "execution_count": 46,
   "metadata": {},
   "outputs": [],
   "source": [
    "brackets = { \n",
    "'{': 0, \n",
    "'[': 0, \n",
    "'(': 0,}"
   ]
  },
  {
   "cell_type": "code",
   "execution_count": 39,
   "metadata": {},
   "outputs": [],
   "source": [
    "def checker(index, bracket): \n",
    "    if bracket == '{' or bracket == '[' or bracket == '(': \n",
    "        brackets[bracket] += 1 \n",
    "    elif bracket == '}': \n",
    "        brackets['{'] -= 1 \n",
    "        if brackets['{'] < 0:\n",
    "            return index + 1\n",
    "    elif bracket == ']': \n",
    "        brackets['['] -= 1 \n",
    "        if brackets['['] < 0:\n",
    "            return index + 1\n",
    "    elif bracket == ')': \n",
    "        brackets['('] -= 1\n",
    "        if brackets['('] < 0:\n",
    "            return index + 1"
   ]
  },
  {
   "cell_type": "code",
   "execution_count": 47,
   "metadata": {},
   "outputs": [
    {
     "name": "stdout",
     "output_type": "stream",
     "text": [
      "Success\n"
     ]
    }
   ],
   "source": [
    "for index, bracket in enumerate('([](){([])})'):\n",
    "    index = checker(index, bracket)\n",
    "if not index:\n",
    "    print('Success')\n",
    "else:\n",
    "    print(index)"
   ]
  },
  {
   "cell_type": "code",
   "execution_count": 48,
   "metadata": {},
   "outputs": [],
   "source": [
    "index"
   ]
  },
  {
   "cell_type": "code",
   "execution_count": 49,
   "metadata": {},
   "outputs": [
    {
     "data": {
      "text/plain": [
       "{'{': 0, '[': 0, '(': 0}"
      ]
     },
     "execution_count": 49,
     "metadata": {},
     "output_type": "execute_result"
    }
   ],
   "source": [
    "brackets"
   ]
  },
  {
   "cell_type": "code",
   "execution_count": 77,
   "metadata": {},
   "outputs": [
    {
     "name": "stdout",
     "output_type": "stream",
     "text": [
      "Success\n"
     ]
    }
   ],
   "source": [
    "brackets = { \n",
    "'{': 0, \n",
    "'[': 0, \n",
    "'(': 0,}\n",
    "\n",
    "def checker(index, bracket): \n",
    "    if bracket == '{' or bracket == '[' or bracket == '(': \n",
    "        brackets[bracket] += 1 \n",
    "    elif bracket == '}': \n",
    "        brackets['{'] -= 1 \n",
    "        if brackets['{'] < 0:\n",
    "            return index + 1\n",
    "    elif bracket == ']': \n",
    "        brackets['['] -= 1 \n",
    "        if brackets['['] < 0:\n",
    "            return index + 1\n",
    "    elif bracket == ')': \n",
    "        brackets['('] -= 1\n",
    "        if brackets['('] < 0:\n",
    "            return index + 1\n",
    "\n",
    "for index, bracket in enumerate('( [ ) ] '):\n",
    "    index = checker(index, bracket)\n",
    "\n",
    "if index:\n",
    "    print(index)\n",
    "else:\n",
    "    print('Success')"
   ]
  },
  {
   "cell_type": "code",
   "execution_count": 76,
   "metadata": {},
   "outputs": [
    {
     "data": {
      "text/plain": [
       "1"
      ]
     },
     "execution_count": 76,
     "metadata": {},
     "output_type": "execute_result"
    }
   ],
   "source": [
    "sum(brackets.values())"
   ]
  },
  {
   "cell_type": "code",
   "execution_count": 89,
   "metadata": {},
   "outputs": [],
   "source": [
    "_str = '([)]'"
   ]
  },
  {
   "cell_type": "code",
   "execution_count": 90,
   "metadata": {},
   "outputs": [
    {
     "name": "stdout",
     "output_type": "stream",
     "text": [
      "3\n",
      "4\n",
      "Success\n"
     ]
    }
   ],
   "source": [
    "s = []\n",
    "size = 0\n",
    "opens = r'([{'\n",
    "closes = r')]}'\n",
    "for i in range(len(_str)):\n",
    "    c = _str[i]\n",
    "    if c in closes:\n",
    "        if len(s) == 0 or s.pop()[0] != opens[closes.index(c)]:\n",
    "            print(i + 1)  # 1 based\n",
    "            exit()\n",
    "    elif c in opens:\n",
    "        s.append((c, i))\n",
    "if len(s) > 0:\n",
    "    print(s.pop()[1] + 1)  # 1 based\n",
    "    exit()\n",
    "\n",
    "print('Success')"
   ]
  },
  {
   "cell_type": "code",
   "execution_count": null,
   "metadata": {},
   "outputs": [],
   "source": []
  }
 ],
 "metadata": {
  "kernelspec": {
   "display_name": "Python 3.8.0 64-bit",
   "language": "python",
   "name": "python38064bita3e2b9284fe241009277b40c2dcf841c"
  },
  "language_info": {
   "codemirror_mode": {
    "name": "ipython",
    "version": 3
   },
   "file_extension": ".py",
   "mimetype": "text/x-python",
   "name": "python",
   "nbconvert_exporter": "python",
   "pygments_lexer": "ipython3",
   "version": "3.8.0"
  }
 },
 "nbformat": 4,
 "nbformat_minor": 4
}
