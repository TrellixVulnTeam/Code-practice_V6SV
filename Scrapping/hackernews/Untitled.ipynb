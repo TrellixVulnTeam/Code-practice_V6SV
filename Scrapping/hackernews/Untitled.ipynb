{
 "cells": [
  {
   "cell_type": "code",
   "execution_count": 1,
   "metadata": {},
   "outputs": [],
   "source": [
    "# step import libraries\n",
    "import pandas as pd\n",
    "import smtplib\n",
    "import datetime\n",
    "from email.message import EmailMessage\n",
    "\n",
    "# Step 1. Loading json file and prepare for sending\n",
    "# 1.1. Load Json file\n",
    "df = pd.read_json('/Users/lyanalexandr/OneDrive/Projects/Programming/Python/practice/scrapping/hackernews/hacker.jsonl', lines=True)\n",
    "# 1.2. Drop duplicates\n",
    "df.drop_duplicates('Article Header', inplace=True)\n",
    "# 1.3. Create name for file\n",
    "date_file = (datetime.datetime.today() - datetime.timedelta(1)).strftime('%Y-%m-%d 0:0:0')\n",
    "\n",
    "df = df[df['Datetime'] > date_file].sort_values(by='Points', ascending=False)"
   ]
  },
  {
   "cell_type": "code",
   "execution_count": 6,
   "metadata": {},
   "outputs": [],
   "source": [
    "df = pd.read_json('/Users/lyanalexandr/OneDrive/Projects/Programming/Python/practice/scrapping/hackernews/hacker.jsonl', lines=True)"
   ]
  },
  {
   "cell_type": "code",
   "execution_count": 30,
   "metadata": {},
   "outputs": [],
   "source": [
    "date_file = (datetime.datetime.today() - datetime.timedelta(3)).strftime('%Y-%m-%d %H:%m:%S')"
   ]
  },
  {
   "cell_type": "code",
   "execution_count": 34,
   "metadata": {},
   "outputs": [],
   "source": [
    "# step import libraries\n",
    "import pandas as pd\n",
    "import smtplib\n",
    "import datetime\n",
    "from email.message import EmailMessage\n",
    "\n",
    "# Step 1. Loading json file and prepare for sending\n",
    "# 1.1. Load Json file\n",
    "df = pd.read_json('/Users/lyanalexandr/OneDrive/Projects/Programming/Python/practice/scrapping/hackernews/hacker.jsonl', lines=True)\n",
    "# 1.2. Drop duplicates\n",
    "df.drop_duplicates('Article Header', inplace=True)\n",
    "# 1.3. Create name for file\n",
    "date_file = (datetime.datetime.today() - datetime.timedelta(3)).strftime('%Y-%m-%d %H:%m:%S')\n",
    "\n",
    "df = df[df['Datetime'] > date_file].sort_values(by='Points', ascending=False)\n",
    "# 1.4. CSV or HTML?\n",
    "# df.to_csv(f'{date_file}.csv')\n",
    "\n",
    "# Step 2. Send mail in html format\n",
    "\n",
    "EMAIL_ADDRESS = 'alexlyan1612@gmail.com'\n",
    "EMAIL_PASSWORD = 'cbknfmxgdafgilct'\n",
    "\n",
    "# Recipients List\n",
    "recipients = ['alexlyan1612@gmail.com',\n",
    "              # 'sanjar.mamatov.197@gmail.com', 'Begimai.amantaeva@gmail.com'\n",
    "              ]\n",
    "msg = EmailMessage()\n",
    "msg['From'] = EMAIL_ADDRESS\n",
    "msg['To'] = ', '.join(recipients)\n",
    "msg['Subject'] = f'TOP HACKER NEWS for {date_file}'\n",
    "# msg['body'] = 'Hacker News'\n",
    "\n",
    "html = \"\"\"\\\n",
    "<html>\n",
    "  <head></head>\n",
    "  <body>\n",
    "    {0}\n",
    "  </body>\n",
    "</html>\n",
    "\"\"\".format(df.head(10).to_html())\n",
    "\n",
    "msg.add_alternative(html, subtype='html')\n",
    "\n",
    "\n",
    "with smtplib.SMTP_SSL('smtp.gmail.com', 465) as smtp:\n",
    "# with smtplib.SMTP_SSL('localhost', 456) as smtp:\n",
    "\n",
    "    smtp.login(EMAIL_ADDRESS, EMAIL_PASSWORD)\n",
    "    smtp.send_message(msg)"
   ]
  },
  {
   "cell_type": "code",
   "execution_count": null,
   "metadata": {},
   "outputs": [],
   "source": []
  }
 ],
 "metadata": {
  "kernelspec": {
   "display_name": "Python 3.8.0 64-bit",
   "language": "python",
   "name": "python38064bita3e2b9284fe241009277b40c2dcf841c"
  },
  "language_info": {
   "codemirror_mode": {
    "name": "ipython",
    "version": 3
   },
   "file_extension": ".py",
   "mimetype": "text/x-python",
   "name": "python",
   "nbconvert_exporter": "python",
   "pygments_lexer": "ipython3",
   "version": "3.8.0"
  }
 },
 "nbformat": 4,
 "nbformat_minor": 4
}
